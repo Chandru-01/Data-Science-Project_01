{
  "nbformat": 4,
  "nbformat_minor": 0,
  "metadata": {
    "colab": {
      "provenance": [],
      "gpuType": "T4"
    },
    "kernelspec": {
      "name": "python3",
      "display_name": "Python 3"
    },
    "language_info": {
      "name": "python"
    },
    "accelerator": "GPU"
  },
  "cells": [
    {
      "cell_type": "code",
      "execution_count": 5,
      "metadata": {
        "id": "6BEzGfH-5x_5",
        "colab": {
          "base_uri": "https://localhost:8080/"
        },
        "outputId": "8dd5193e-3088-4261-bf0d-d838f74fc359"
      },
      "outputs": [
        {
          "output_type": "stream",
          "name": "stdout",
          "text": [
            "Epoch 1/5\n",
            "282/282 [==============================] - 44s 120ms/step - loss: 0.4566 - accuracy: 0.7714 - val_loss: 0.3172 - val_accuracy: 0.8630\n",
            "Epoch 2/5\n",
            "282/282 [==============================] - 17s 59ms/step - loss: 0.2232 - accuracy: 0.9144 - val_loss: 0.2393 - val_accuracy: 0.9022\n",
            "Epoch 3/5\n",
            "282/282 [==============================] - 13s 47ms/step - loss: 0.1081 - accuracy: 0.9656 - val_loss: 0.2631 - val_accuracy: 0.9000\n",
            "Epoch 4/5\n",
            "282/282 [==============================] - 8s 29ms/step - loss: 0.0420 - accuracy: 0.9901 - val_loss: 0.3056 - val_accuracy: 0.9025\n",
            "Epoch 5/5\n",
            "282/282 [==============================] - 6s 21ms/step - loss: 0.0135 - accuracy: 0.9980 - val_loss: 0.3524 - val_accuracy: 0.8988\n",
            "313/313 [==============================] - 1s 2ms/step - loss: 0.3574 - accuracy: 0.8989\n",
            "Test Accuracy: 0.8988999724388123\n"
          ]
        }
      ],
      "source": [
        "#Data Train & Testing\n",
        "#Accuracy & Prediction\n",
        "\n",
        "#Accuracy\n",
        "\n",
        "# Importing all necessary Packages\n",
        "import pandas as pd\n",
        "from sklearn.model_selection import train_test_split\n",
        "from sklearn.preprocessing import LabelEncoder\n",
        "from keras.preprocessing.text import Tokenizer\n",
        "from keras.preprocessing.sequence import pad_sequences\n",
        "from keras.models import Sequential\n",
        "from keras.layers import Embedding, Conv1D, GlobalMaxPooling1D, Dense, Dropout\n",
        "\n",
        "# Load the dataset from Excel\n",
        "df = pd.read_excel('IMDB Dataset.xlsx')\n",
        "\n",
        "# Extracting features (movie reviews) and labels (sentiments)\n",
        "X = df['review']\n",
        "y = df['sentiment']\n",
        "\n",
        "# Encode labels\n",
        "label_encoder = LabelEncoder()\n",
        "y = label_encoder.fit_transform(y)\n",
        "\n",
        "# Splitting the dataset into training and testing sets (80-20 split)\n",
        "X_train, X_test, y_train, y_test = train_test_split(X, y, test_size=0.2, random_state=42)\n",
        "\n",
        "# Tokenizing the text data\n",
        "max_words = 10000  # maximum number of words to keep\n",
        "max_len = 200  # maximum length of a sequence\n",
        "tokenizer = Tokenizer(num_words=max_words)\n",
        "tokenizer.fit_on_texts(X_train)\n",
        "X_train_sequence = tokenizer.texts_to_sequences(X_train)\n",
        "X_test_sequence = tokenizer.texts_to_sequences(X_test)\n",
        "\n",
        "# Padding sequences to ensure uniform length\n",
        "X_train_padded = pad_sequences(X_train_sequence, maxlen=max_len)\n",
        "X_test_padded = pad_sequences(X_test_sequence, maxlen=max_len)\n",
        "\n",
        "# Defining the CNN model\n",
        "model = Sequential()\n",
        "model.add(Embedding(input_dim=max_words, output_dim=100, input_length=max_len))\n",
        "model.add(Conv1D(128, 5, activation='relu'))\n",
        "model.add(GlobalMaxPooling1D())\n",
        "model.add(Dense(64, activation='relu'))\n",
        "model.add(Dropout(0.5))\n",
        "model.add(Dense(1, activation='sigmoid'))\n",
        "\n",
        "# Compiling the model\n",
        "model.compile(optimizer='adam', loss='binary_crossentropy', metrics=['accuracy'])\n",
        "\n",
        "# Training the model\n",
        "model.fit(X_train_padded, y_train, batch_size=128, epochs=5, validation_split=0.1)\n",
        "\n",
        "# Evaluating the model\n",
        "loss, accuracy = model.evaluate(X_test_padded, y_test)\n",
        "print(\"Test Accuracy:\", accuracy)"
      ]
    },
    {
      "cell_type": "code",
      "source": [
        "#Predict Review\n",
        "\n",
        "# Assume 'input_review' is the new review you want to predict\n",
        "input_review = input(\"Type your Review: \")\n",
        "\n",
        "# Tokenize and pad the input review\n",
        "input_review_sequence = tokenizer.texts_to_sequences([input_review])\n",
        "input_review_padded = pad_sequences(input_review_sequence, maxlen=max_len, padding='post')\n",
        "\n",
        "# Make prediction\n",
        "prediction = model.predict(input_review_padded)\n",
        "\n",
        "# Convert prediction to sentiment label\n",
        "predicted_sentiment = \"positive\" if prediction[0][0] > 0.5 else \"negative\"\n",
        "\n",
        "print(\"Predicted Sentiment:\", predicted_sentiment)"
      ],
      "metadata": {
        "colab": {
          "base_uri": "https://localhost:8080/"
        },
        "id": "0EH3eCuXLGz-",
        "outputId": "c2be698e-c39e-4adf-c6d3-a38e7bf47ca8"
      },
      "execution_count": 8,
      "outputs": [
        {
          "output_type": "stream",
          "name": "stdout",
          "text": [
            "Type your Review: One of the Best Experience and an Fabulous Screenplay\n",
            "1/1 [==============================] - 0s 18ms/step\n",
            "Predicted Sentiment: positive\n"
          ]
        }
      ]
    }
  ]
}